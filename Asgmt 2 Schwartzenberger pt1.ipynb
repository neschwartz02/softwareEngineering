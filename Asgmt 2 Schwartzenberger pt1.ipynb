{
  "nbformat": 4,
  "nbformat_minor": 0,
  "metadata": {
    "colab": {
      "name": "Untitled7.ipynb",
      "provenance": [],
      "collapsed_sections": []
    },
    "kernelspec": {
      "name": "python3",
      "display_name": "Python 3"
    },
    "language_info": {
      "name": "python"
    }
  },
  "cells": [
    {
      "cell_type": "code",
      "metadata": {
        "id": "EgTpJId0MZ5c"
      },
      "source": [
        "import chess\n",
        "import os\n",
        "import pandas as pd\n",
        "import numpy as np\n",
        "from tensorflow import keras\n",
        "from tensorflow.keras import layers"
      ],
      "execution_count": 1,
      "outputs": []
    },
    {
      "cell_type": "code",
      "metadata": {
        "colab": {
          "resources": {
            "http://localhost:8080/nbextensions/google.colab/files.js": {
              "data": "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",
              "ok": true,
              "headers": [
                [
                  "content-type",
                  "application/javascript"
                ]
              ],
              "status": 200,
              "status_text": "OK"
            }
          },
          "base_uri": "https://localhost:8080/",
          "height": 94
        },
        "id": "bDwLXMvlMkt9",
        "outputId": "0d701c99-b4c2-4512-c755-c04f9b2d1dfa"
      },
      "source": [
        "from google.colab import files\n",
        "\n",
        "uploaded = files.upload()\n",
        "\n",
        "for fn in uploaded.keys():\n",
        "  print('Upload succesful')\n"
      ],
      "execution_count": 2,
      "outputs": [
        {
          "output_type": "display_data",
          "data": {
            "text/html": [
              "\n",
              "     <input type=\"file\" id=\"files-ae0965a0-abf0-43f9-ac6d-018a1db782fb\" name=\"files[]\" multiple disabled\n",
              "        style=\"border:none\" />\n",
              "     <output id=\"result-ae0965a0-abf0-43f9-ac6d-018a1db782fb\">\n",
              "      Upload widget is only available when the cell has been executed in the\n",
              "      current browser session. Please rerun this cell to enable.\n",
              "      </output>\n",
              "      <script src=\"/nbextensions/google.colab/files.js\"></script> "
            ],
            "text/plain": [
              "<IPython.core.display.HTML object>"
            ]
          },
          "metadata": {}
        },
        {
          "output_type": "stream",
          "name": "stdout",
          "text": [
            "Saving chess_game-1.csv to chess_game-1.csv\n",
            "Upload succesful\n"
          ]
        }
      ]
    },
    {
      "cell_type": "code",
      "metadata": {
        "id": "iQ-eSk89NHfH"
      },
      "source": [
        "indice = 2000\n",
        "df = pd.read_csv('chess_game-1.csv')\n",
        "data = df['moves'].tolist()[:indice]"
      ],
      "execution_count": 3,
      "outputs": []
    },
    {
      "cell_type": "code",
      "metadata": {
        "id": "s-G9XgeZOLpv"
      },
      "source": [
        "split_data = []\n",
        "for point in data[:indice]:\n",
        "  point = point.split()\n",
        "  split_data.append(point)"
      ],
      "execution_count": 4,
      "outputs": []
    },
    {
      "cell_type": "code",
      "metadata": {
        "id": "oD32wx0POkLZ"
      },
      "source": [
        "data = []\n",
        "for game in split_data:\n",
        "  board = chess.Board()\n",
        "  for move in game:\n",
        "    board_ready = board.copy()\n",
        "    data.append(board.copy())\n",
        "    board.push_san(move)"
      ],
      "execution_count": 6,
      "outputs": []
    },
    {
      "cell_type": "code",
      "metadata": {
        "id": "t6rm7zYMOY4B"
      },
      "source": [
        "chess_dict = {\n",
        "    'p' : [1,0,0,0,0,0,0,0,0,0,0,0],\n",
        "    'P' : [0,0,0,0,0,0,1,0,0,0,0,0],\n",
        "    'n' : [0,1,0,0,0,0,0,0,0,0,0,0],\n",
        "    'N' : [0,0,0,0,0,0,0,1,0,0,0,0],\n",
        "    'b' : [0,0,1,0,0,0,0,0,0,0,0,0],\n",
        "    'B' : [0,0,0,0,0,0,0,0,1,0,0,0],\n",
        "    'r' : [0,0,0,1,0,0,0,0,0,0,0,0],\n",
        "    'R' : [0,0,0,0,0,0,0,0,0,1,0,0],\n",
        "    'q' : [0,0,0,0,1,0,0,0,0,0,0,0],\n",
        "    'Q' : [0,0,0,0,0,0,0,0,0,0,1,0],\n",
        "    'k' : [0,0,0,0,0,1,0,0,0,0,0,0],\n",
        "    'K' : [0,0,0,0,0,0,0,0,0,0,0,1],\n",
        "    '.' : [0,0,0,0,0,0,0,0,0,0,0,0],\n",
        "}\n",
        "alpha_dict = {\n",
        "    'a' : [0,0,0,0,0,0,0],\n",
        "    'b' : [1,0,0,0,0,0,0],\n",
        "    'c' : [0,1,0,0,0,0,0],\n",
        "    'd' : [0,0,1,0,0,0,0],\n",
        "    'e' : [0,0,0,1,0,0,0],\n",
        "    'f' : [0,0,0,0,1,0,0],\n",
        "    'g' : [0,0,0,0,0,1,0],\n",
        "    'h' : [0,0,0,0,0,0,1],\n",
        "}\n",
        "number_dict = {\n",
        "    1 : [0,0,0,0,0,0,0],\n",
        "    2 : [1,0,0,0,0,0,0],\n",
        "    3 : [0,1,0,0,0,0,0],\n",
        "    4 : [0,0,1,0,0,0,0],\n",
        "    5 : [0,0,0,1,0,0,0],\n",
        "    6 : [0,0,0,0,1,0,0],\n",
        "    7 : [0,0,0,0,0,1,0],\n",
        "    8 : [0,0,0,0,0,0,1],\n",
        "}"
      ],
      "execution_count": 5,
      "outputs": []
    },
    {
      "cell_type": "code",
      "metadata": {
        "colab": {
          "base_uri": "https://localhost:8080/"
        },
        "id": "NTIiNDr8O5Q2",
        "outputId": "3656b5db-df8a-4a40-ab64-7ac63af0687f"
      },
      "source": [
        "def make_matrix(board): \n",
        "    pgn = board.epd()\n",
        "    foo = []  \n",
        "    pieces = pgn.split(\" \", 1)[0]\n",
        "    rows = pieces.split(\"/\")\n",
        "    for row in rows:\n",
        "        foo2 = []  \n",
        "        for thing in row:\n",
        "            if thing.isdigit():\n",
        "                for i in range(0, int(thing)):\n",
        "                    foo2.append('.')\n",
        "            else:\n",
        "                foo2.append(thing)\n",
        "        foo.append(foo2)\n",
        "    return foo\n",
        "\n",
        "def translate(matrix,chess_dict):\n",
        "\n",
        "    rows = []\n",
        "    for row in matrix:\n",
        "        terms = []\n",
        "        for term in row:\n",
        "            terms.append(chess_dict[term])\n",
        "        rows.append(terms)\n",
        "    return rows\n",
        "\n",
        "def flatten(l): \n",
        "    return [item for sublist in l for item in sublist]   #missing line \n",
        "\n",
        "trans_data = []\n",
        "for board in data:\n",
        "    matrix = make_matrix(board)\n",
        "    trans = translate(matrix,chess_dict)\n",
        "    trans_data.append(trans)\n",
        "\n",
        "pieces = []\n",
        "alphas = []\n",
        "numbers = []\n",
        "\n",
        "true_data = flatten(split_data)\n",
        "\n",
        "for i in range(len(true_data)):\n",
        "    try:\n",
        "        term = flatten(split_data)[i]\n",
        "        original = term[:]\n",
        "        term = term.replace('x','')\n",
        "        term = term.replace('#','')\n",
        "        term = term.replace('+','')\n",
        "        if len(term) == 2:\n",
        "            piece = 'p' \n",
        "        else:\n",
        "            piece = term[0]\n",
        "        alpha = term[-2]\n",
        "        number = term[-1]\n",
        "        pieces.append(chess_dict[piece])\n",
        "        alphas.append(alpha_dict[alpha])\n",
        "        numbers.append(number_dict[int(number)])\n",
        "    except:\n",
        "        pass\n",
        "print(\"Transformed data\")"
      ],
      "execution_count": 8,
      "outputs": [
        {
          "output_type": "stream",
          "name": "stdout",
          "text": [
            "Transformed data\n"
          ]
        }
      ]
    },
    {
      "cell_type": "code",
      "metadata": {
        "id": "_vi4ReODOgMx"
      },
      "source": [
        "def createModelPiece():\n",
        "    board_inputs = keras.Input(shape=(8, 8, 12))\n",
        "    conv1 = layers.Conv2D(10, 3, activation='relu')\n",
        "    conv2 = layers.Conv2D(10, 3, activation='relu')\n",
        "    pooling1 = layers.MaxPooling2D(pool_size=(\n",
        "        2, 2), strides=None, padding=\"valid\", data_format=None,)\n",
        "    pooling2 = layers.MaxPooling2D(pool_size=(\n",
        "        2, 2), strides=None, padding=\"valid\", data_format=None,)\n",
        "    flatten = keras.layers.Flatten(data_format=None)\n",
        "    x = conv1(board_inputs)\n",
        "    x = pooling1(x)\n",
        "    x = conv2(x)\n",
        "    x = flatten(x)\n",
        "    piece_output = layers.Dense(12, name='piece')(x)\n",
        "    model_pieces = keras.Model(\n",
        "        inputs=board_inputs, outputs=piece_output, name=\"chess_ai_v3\")\n",
        "    \n",
        "    model_pieces.compile(\n",
        "        loss=keras.losses.mse,\n",
        "        optimizer=keras.optimizers.Adam(),\n",
        "        metrics=None,\n",
        "    )\n",
        "    \n",
        "    return model_pieces\n",
        "def createModelAlpha():\n",
        "    board_inputs = keras.Input(shape=(8, 8, 12))\n",
        "    conv1 = layers.Conv2D(10, 3, activation='relu')\n",
        "    conv2 = layers.Conv2D(10, 3, activation='relu')\n",
        "    pooling1 = layers.MaxPooling2D(pool_size=(\n",
        "        2, 2), strides=None, padding=\"valid\", data_format=None,)\n",
        "    pooling2 = layers.MaxPooling2D(pool_size=(\n",
        "        2, 2), strides=None, padding=\"valid\", data_format=None,)\n",
        "    flatten = keras.layers.Flatten(data_format=None)\n",
        "    x = conv1(board_inputs)\n",
        "    x = pooling1(x)\n",
        "    x = conv2(x)\n",
        "    x = flatten(x)\n",
        "    alpha_output = layers.Dense(7, name='alpha')(x)\n",
        "    model_alpha = keras.Model(\n",
        "        inputs=board_inputs, outputs=alpha_output, name=\"chess_ai_v3\")\n",
        "    \n",
        "    model_alpha.compile(\n",
        "        loss=keras.losses.mse,\n",
        "        optimizer=keras.optimizers.Adam(),\n",
        "        metrics=None,)\n",
        "    \n",
        "    return model_alpha\n",
        "\n",
        "\n",
        "def createModelNumber(): #part he wants us to change\n",
        "    board_inputs = keras.Input(shape=(8, 8, 12))\n",
        "    conv1 = layers.Conv2D(10, 3, activation='relu')\n",
        "    conv2 = layers.Conv2D(10, 3, activation='relu')\n",
        "    pooling1 = layers.MaxPooling2D(pool_size=(\n",
        "        2, 2), strides=None, padding=\"valid\", data_format=None,)\n",
        "    pooling2 = layers.MaxPooling2D(pool_size=(\n",
        "        2, 2), strides=None, padding=\"valid\", data_format=None,)\n",
        "    flatten = keras.layers.Flatten(data_format=None)\n",
        "    x = conv1(board_inputs)\n",
        "    x = pooling1(x)\n",
        "    x = conv2(x)\n",
        "    x = flatten(x)\n",
        "    numbers_output = layers.Dense(7, name='number')(x)\n",
        "    model_number = keras.Model(\n",
        "        inputs=board_inputs, outputs=numbers_output, name=\"chess_ai_v3\")\n",
        "    model_number.compile(\n",
        "        loss=keras.losses.mse,\n",
        "        optimizer=keras.optimizers.Adam(),\n",
        "        metrics=None,\n",
        "    )\n",
        "    \n",
        "    return model_number"
      ],
      "execution_count": null,
      "outputs": []
    },
    {
      "cell_type": "code",
      "metadata": {
        "id": "CqbMhyXGQqFO"
      },
      "source": [
        "earlystop = keras.callbacks.EarlyStopping(\n",
        "        monitor='loss', min_delta=0, patience=250, verbose=2, mode='auto', baseline=None, restore_best_weights=True)"
      ],
      "execution_count": null,
      "outputs": []
    },
    {
      "cell_type": "code",
      "metadata": {
        "id": "7yY_X1BkQsJv"
      },
      "source": [
        "print(\"Loading model_pieces\")\n",
        "if os.path.exists(\"model_pieces\\\\\"):\n",
        "    model_pieces = keras.models.load_model(\"model_pieces\")\n",
        "else:\n",
        "    model_pieces = createModelPiece()\n",
        "print(\"Loaded model_pieces\")\n",
        "model_pieces.fit(trans_data[:len(pieces)],\n",
        "                 pieces[:len(pieces)], batch_size=64, epochs=100,verbose=2, callbacks=[earlystop])\n",
        "model_pieces.save(\"model_pieces\")\n",
        "print(\"Saved model_pieces\")"
      ],
      "execution_count": null,
      "outputs": []
    },
    {
      "cell_type": "code",
      "metadata": {
        "id": "YlVmUf-FQu69"
      },
      "source": [
        "print(\"Loading model_alpha (columns)\")\n",
        "if os.path.exists(\"model_alpha\\\\\"):\n",
        "    model_alpha = keras.models.load_model(\"model_alpha\")\n",
        "else:\n",
        "    model_alpha = createModelAlpha()\n",
        "print(\"Loaded model_alpha (columns)\")\n",
        "\n",
        "model_alpha.fit(trans_data[:len(alphas)], alphas[:len(alphas)], batch_size=64, epochs=100,verbose=2, callbacks=[earlystop])\n",
        "model_alpha.save(\"model_alpha\")\n",
        "print(\"Saved model_alpha (columns)\")"
      ],
      "execution_count": null,
      "outputs": []
    },
    {
      "cell_type": "code",
      "metadata": {
        "id": "oC8fcqYhQxaT"
      },
      "source": [
        "print(\"Loading model_number (rows)\")\n",
        "if os.path.exists(\"model_number\\\\\"):\n",
        "    model_number = keras.models.load_model(\"model_number\")\n",
        "else:\n",
        "    model_number = createModelNumber()\n",
        "print(\"Loaded model_number (rows)\")\n",
        "\n",
        "model_number.fit(trans_data[:len(numbers)], numbers[:len(numbers)], batch_size=64, epochs=100,verbose=2, callbacks=[earlystop])\n",
        "model_number.save(\"model_number\")\n",
        "print(\"Saved model_number (rows)\")"
      ],
      "execution_count": null,
      "outputs": []
    },
    {
      "cell_type": "code",
      "metadata": {
        "id": "pZkNALz1Qzh7"
      },
      "source": [
        "new_chess_dict = {}\n",
        "new_alpha_dict = {}\n",
        "new_number_dict = {}\n",
        "for term in chess_dict:\n",
        "    definition = tuple(chess_dict[term])\n",
        "    new_chess_dict[definition] = term\n",
        "    new_chess_dict[term] = definition\n",
        "\n",
        "for term in alpha_dict:\n",
        "    definition = tuple(alpha_dict[term])\n",
        "    new_alpha_dict[definition] = term\n",
        "    new_alpha_dict[term] = definition\n",
        "\n",
        "for term in number_dict:\n",
        "    definition = tuple(number_dict[term])\n",
        "    new_number_dict[definition] = term\n",
        "    new_number_dict[term] = definition"
      ],
      "execution_count": null,
      "outputs": []
    },
    {
      "cell_type": "code",
      "metadata": {
        "id": "b2i3V4s6Q1Ft"
      },
      "source": [
        "def translate_pred(pred):\n",
        "    translation = np.zeros(pred.shape)\n",
        "    index = pred[0].tolist().index(max(pred[0]))\n",
        "    translation[0][index] = 1\n",
        "    return translation[0]\n",
        "\n",
        "data = np.reshape(trans_data[0], (1, 8, 8, 12))\n",
        "piece = translate_pred(model_pieces.predict(data))\n",
        "alpha = translate_pred(model_alpha.predict(data))\n",
        "number = translate_pred(model_alpha.predict(data))\n",
        "piece_pred = new_chess_dict[tuple(piece)]\n",
        "alpha_pred = new_alpha_dict[tuple(alpha)]\n",
        "number_pred = new_number_dict[tuple(number)]\n",
        "move = str(piece_pred)+str(alpha_pred)+str(number_pred)\n",
        "\n",
        "if move[0]=='p':\n",
        "  move=move[1:]\n",
        "else:\n",
        "  move= move\n",
        "\n",
        "print(move)"
      ],
      "execution_count": null,
      "outputs": []
    },
    {
      "cell_type": "code",
      "metadata": {
        "id": "wlD_GpVdQ2zC"
      },
      "source": [
        "board = chess.Board()\n",
        "# board.push_san('a3')\n",
        "board.push_san(move)\n",
        "board"
      ],
      "execution_count": null,
      "outputs": []
    },
    {
      "cell_type": "code",
      "metadata": {
        "id": "273fmk6SQ5S4"
      },
      "source": [
        "def Move_prediction(board):\n",
        "  matrix = make_matrix(board)\n",
        "  trans = translate(matrix,chess_dict)\n",
        "\n",
        "\n",
        "  data = np.reshape(trans, (1, 8, 8, 12))\n",
        "  piece = translate_pred(model_pieces.predict(data))\n",
        "  alpha = translate_pred(model_alpha.predict(data))\n",
        "  number = translate_pred(model_alpha.predict(data))\n",
        "  piece_pred = new_chess_dict[tuple(piece)]\n",
        "  alpha_pred = new_alpha_dict[tuple(alpha)]\n",
        "  number_pred = new_number_dict[tuple(number)]\n",
        "  move = str(piece_pred)+str(alpha_pred)+str(number_pred)\n",
        "\n",
        "  if move[0]=='p':\n",
        "    move=move[1:]\n",
        "  else:\n",
        "    move= move\n",
        "  return move"
      ],
      "execution_count": null,
      "outputs": []
    },
    {
      "cell_type": "code",
      "metadata": {
        "id": "HnOjy4qvQ68e"
      },
      "source": [
        "import random\n",
        "board = chess.Board()\n",
        "board"
      ],
      "execution_count": null,
      "outputs": []
    },
    {
      "cell_type": "code",
      "metadata": {
        "id": "kF5ToDvcQ9Pn"
      },
      "source": [
        "try:\n",
        "  move=Move_prediction(board)\n",
        "  board.push_san(move)\n",
        "  print('Deep learning Move prediction')\n",
        "except:\n",
        "  All_possible_moves=list(board.legal_moves)\n",
        "  Starting_move=All_possible_moves[random.randint(0,len(All_possible_moves)-1)]\n",
        "  board.push(Starting_move)\n",
        "  print('Random stage move prediction')\n",
        "board  "
      ],
      "execution_count": null,
      "outputs": []
    }
  ]
}